{
 "cells": [
  {
   "cell_type": "markdown",
   "metadata": {},
   "source": [
    "## NBC News Top Story Headlines"
   ]
  },
  {
   "cell_type": "markdown",
   "metadata": {},
   "source": [
    "**Web scrapping practice #1**"
   ]
  },
  {
   "cell_type": "code",
   "execution_count": 1,
   "metadata": {},
   "outputs": [],
   "source": [
    "import requests \n",
    "import bs4\n",
    "from bs4 import BeautifulSoup"
   ]
  },
  {
   "cell_type": "code",
   "execution_count": 2,
   "metadata": {},
   "outputs": [],
   "source": [
    "url = 'https://www.nbcnews.com/'"
   ]
  },
  {
   "cell_type": "code",
   "execution_count": 3,
   "metadata": {},
   "outputs": [],
   "source": [
    "## User agent = web browser; can be recieved through browser console using \"navigator.userAgent\"\n",
    "headers = {\n",
    "    'User-Agent': \"Mozilla/5.0 (Windows NT 10.0; Win64; x64) AppleWebKit/537.36 (KHTML, like Gecko) Chrome/87.0.4280.88 Safari/537.36\" \n",
    "}"
   ]
  },
  {
   "cell_type": "code",
   "execution_count": 4,
   "metadata": {},
   "outputs": [],
   "source": [
    "# requests url from headers; stores webpage info\n",
    "r = requests.get(url,{'headers': headers})"
   ]
  },
  {
   "cell_type": "code",
   "execution_count": 5,
   "metadata": {},
   "outputs": [],
   "source": [
    "## skim through webpage text  \n",
    "soup = bs4.BeautifulSoup(r.text, 'html.parser')"
   ]
  },
  {
   "cell_type": "code",
   "execution_count": 6,
   "metadata": {},
   "outputs": [
    {
     "data": {
      "text/plain": [
       "['2 Louisville police officers fired over Breonna Taylor shooting',\n",
       " \"Dr. Dre's house targeted in burglary attempt a day after he was admitted to hospital\",\n",
       " 'Attorney of woman who falsely accused Black teen of phone theft speaks out',\n",
       " 'Neil Young sells 50 percent of publishing rights to his entire song catalog to investment fund',\n",
       " \"Maybe 'dark matter' doesn't exist after all, new research suggests\"]"
      ]
     },
     "execution_count": 6,
     "metadata": {},
     "output_type": "execute_result"
    }
   ],
   "source": [
    "## h2 = type of element(ex[. div])\n",
    "## this code gets the top story headlines for that day \n",
    "\n",
    "top_story_headlines = []\n",
    "\n",
    "for x in range(5):\n",
    "    top_story_headlines.append(soup.find_all('h2', {\"class\": \"alacarte__headline\"})[x].text)\n",
    "    \n",
    "top_story_headlines"
   ]
  },
  {
   "cell_type": "code",
   "execution_count": null,
   "metadata": {},
   "outputs": [],
   "source": []
  }
 ],
 "metadata": {
  "kernelspec": {
   "display_name": "Python 3",
   "language": "python",
   "name": "python3"
  },
  "language_info": {
   "codemirror_mode": {
    "name": "ipython",
    "version": 3
   },
   "file_extension": ".py",
   "mimetype": "text/x-python",
   "name": "python",
   "nbconvert_exporter": "python",
   "pygments_lexer": "ipython3",
   "version": "3.8.5"
  }
 },
 "nbformat": 4,
 "nbformat_minor": 4
}
